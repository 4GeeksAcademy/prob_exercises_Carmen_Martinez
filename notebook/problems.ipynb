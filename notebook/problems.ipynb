{
 "cells": [
  {
   "cell_type": "markdown",
   "id": "a41f3622",
   "metadata": {},
   "source": [
    "# Probability exercises"
   ]
  },
  {
   "cell_type": "markdown",
   "id": "a6bdbd89",
   "metadata": {},
   "source": [
    "## Exercise 1 \n",
    "\n",
    "Two dices are thrown once and the total score is observed. Use a simulation to find the estimated probability that the total score is even or greater than 7.  A simulation is a repetition of the same experiment multiple times to observe its behavior:\n",
    "\n",
    "- Run the experiment 1000 times (roll 2 dice 1000 times, and sum the number of both dices).\n",
    "- Keep track of the number of times that the sum was either greater than 7 or an even number.\n",
    "- Divide the number from step 2 by the number of iterations (1000)."
   ]
  },
  {
   "cell_type": "code",
   "execution_count": 1,
   "id": "8939d892",
   "metadata": {},
   "outputs": [
    {
     "name": "stdout",
     "output_type": "stream",
     "text": [
      "The estimate probability is: 0.662\n"
     ]
    }
   ],
   "source": [
    "# TODO\n",
    "import random\n",
    "\n",
    "#  Function to shake dices and sum their values\n",
    "def shake_dices():\n",
    "    dice1 = random.randint(1, 6)\n",
    "    dice2 = random.randint(1, 6)\n",
    "    return dice1 + dice2\n",
    "\n",
    "#  Number of iterations asked in the exercise (1000) KEEP THE TRACK\n",
    "total_iterations = 1000\n",
    "counter_of_iterations = 0\n",
    "\n",
    "#  Execution of the experiment saving the result in a new variable \n",
    "for _ in range(total_iterations): \n",
    "    result = shake_dices()  #  Calling the function and saving the result in a new variable\n",
    "    if result > 7 or result % 2 == 0:\n",
    "        counter_of_iterations +=1\n",
    "\n",
    "#  Calculate probability\n",
    "probability = counter_of_iterations/total_iterations\n",
    "        \n",
    "print(\"The estimate probability is:\", probability)\n"
   ]
  },
  {
   "cell_type": "markdown",
   "id": "55732bca",
   "metadata": {},
   "source": [
    "## Exercise 2\n",
    "\n",
    "A box contains 10 white balls, 20 red balls and 30 green balls. If we take 5 balls from the box with replacement (we take the ball, observe what color it is and put it back into the box). We want to know the probability of:\n",
    "\n",
    "1. Take 3 white and 2 red.\n",
    "2. Take all of the same color.\n",
    "\n",
    "Run the experiment 1000 times and calculate the above probabilities."
   ]
  },
  {
   "cell_type": "code",
   "execution_count": 2,
   "id": "23244d20",
   "metadata": {},
   "outputs": [
    {
     "name": "stdout",
     "output_type": "stream",
     "text": [
      "{0: 'White', 1: 'White', 2: 'White', 3: 'White', 4: 'White', 5: 'White', 6: 'White', 7: 'White', 8: 'White', 9: 'White', 10: 'Red', 11: 'Red', 12: 'Red', 13: 'Red', 14: 'Red', 15: 'Red', 16: 'Red', 17: 'Red', 18: 'Red', 19: 'Red', 20: 'Red', 21: 'Red', 22: 'Red', 23: 'Red', 24: 'Red', 25: 'Red', 26: 'Red', 27: 'Red', 28: 'Red', 29: 'Red', 30: 'Green', 31: 'Green', 32: 'Green', 33: 'Green', 34: 'Green', 35: 'Green', 36: 'Green', 37: 'Green', 38: 'Green', 39: 'Green', 40: 'Green', 41: 'Green', 42: 'Green', 43: 'Green', 44: 'Green', 45: 'Green', 46: 'Green', 47: 'Green', 48: 'Green', 49: 'Green', 50: 'Green', 51: 'Green', 52: 'Green', 53: 'Green', 54: 'Green', 55: 'Green', 56: 'Green', 57: 'Green', 58: 'Green', 59: 'Green'}\n"
     ]
    },
    {
     "name": "stdout",
     "output_type": "stream",
     "text": [
      "Probability of drawing exactly three white balls and two red balls: 0.005\n",
      "Probability of drawing five balls of the same colour: 0.034\n"
     ]
    }
   ],
   "source": [
    "ball_box = {}\n",
    "\n",
    "# Create the box of balls\n",
    "for i in range(60):\n",
    "    if i < 10:\n",
    "        ball_box[i] = \"White\"\n",
    "    elif (i > 9) and (i < 30):\n",
    "        ball_box[i] = \"Red\"\n",
    "    else:\n",
    "        ball_box[i] = \"Green\"\n",
    "\n",
    "print(ball_box)\n",
    "            \n",
    "# TODO\n",
    "\n",
    "import numpy as np\n",
    "import random\n",
    "\n",
    "# Create the function for choosing the balls\n",
    "def choosing_balls(simulations=1000):\n",
    "    counter_for_three_whites_two_red = 0\n",
    "    counter_all_same_colour = 0\n",
    "\n",
    "    for _ in range(simulations):   # Iteration for the experiment\n",
    "        results_of_colours = [] # Create an empty list where all the results will be added\n",
    "        for _ in range(5):     # Iteration for the simulation\n",
    "            results_of_colours.append(ball_box[random.randint(0,59)])\n",
    "\n",
    "        # chage the structure of results_of_coulorus to an array to be easy to manage the counting of each colour\n",
    "        results_of_colours = np.array(results_of_colours) \n",
    "        w_balls = sum(results_of_colours == \"White\") \n",
    "        g_balls = sum(results_of_colours == \"Green\") \n",
    "        r_balls = sum(results_of_colours == \"Red\")\n",
    "\n",
    "        # Create the conditionals\n",
    "        if r_balls == 2 and w_balls == 3:\n",
    "            counter_for_three_whites_two_red += 1\n",
    "        if r_balls == 5 or g_balls == 5 or w_balls == 5:\n",
    "            counter_all_same_colour +=1\n",
    "        \n",
    "    return counter_for_three_whites_two_red / simulations, counter_all_same_colour / simulations\n",
    "\n",
    "probability = choosing_balls(1000)\n",
    "print(\"Probability of drawing exactly three white balls and two red balls:\", probability[0]) \n",
    "print(\"Probability of drawing five balls of the same colour:\", probability[1])\n"
   ]
  },
  {
   "cell_type": "code",
   "execution_count": null,
   "id": "aa7f2d96",
   "metadata": {},
   "outputs": [],
   "source": []
  }
 ],
 "metadata": {
  "kernelspec": {
   "display_name": "Python 3",
   "language": "python",
   "name": "python3"
  },
  "language_info": {
   "codemirror_mode": {
    "name": "ipython",
    "version": 3
   },
   "file_extension": ".py",
   "mimetype": "text/x-python",
   "name": "python",
   "nbconvert_exporter": "python",
   "pygments_lexer": "ipython3",
   "version": "3.11.4"
  }
 },
 "nbformat": 4,
 "nbformat_minor": 5
}
